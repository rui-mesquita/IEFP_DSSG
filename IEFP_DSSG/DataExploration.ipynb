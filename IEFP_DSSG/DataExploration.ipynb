{
 "cells": [
  {
   "cell_type": "markdown",
   "metadata": {},
   "source": [
    "##  Importação bibliotecas"
   ]
  },
  {
   "cell_type": "code",
   "execution_count": 1,
   "metadata": {},
   "outputs": [],
   "source": [
    "import pandas as pd\n",
    "import utente\n",
    "\n",
    "import importlib as imp\n",
    "import sys\n",
    "\n",
    "import matplotlib.pyplot as plt\n",
    "import seaborn as sns\n",
    "import numpy as np\n",
    "from scipy.stats import norm\n",
    "from sklearn.preprocessing import StandardScaler\n",
    "from scipy import stats\n",
    "import warnings\n",
    "warnings.filterwarnings('ignore')\n",
    "%matplotlib inline"
   ]
  },
  {
   "cell_type": "markdown",
   "metadata": {},
   "source": [
    "## Configurações"
   ]
  },
  {
   "cell_type": "code",
   "execution_count": 2,
   "metadata": {},
   "outputs": [],
   "source": [
    "pd.options.display.max_columns = 100"
   ]
  },
  {
   "cell_type": "markdown",
   "metadata": {},
   "source": [
    "## Carregamento dos dados"
   ]
  },
  {
   "cell_type": "markdown",
   "metadata": {},
   "source": [
    "Em máquina Windows ocorre regularmente \"Memory Error\", provavelmente devido a algumas variáveis que não são limpas ou à cache do servidor do Jupyter. <br>\n",
    "Um **fix** temporário (se não tivermos o ficheiro local PICKLE) pode ser:\n",
    "1. Carregar utente.ListaUtentes com forceFetch = True <br>\n",
    "2. Guardar localmente estrutura objectos em ficheiro PICKLE com output2FileHistoricosTodosUtentes() <br>\n",
    "3. Fechar e voltar a abrir o Notebook <br>\n",
    "4. Carregar utente.ListaUtentes com forceFetch = False <br> \n",
    "5. Carregar o Pandas Dataframe com pd.DataFrame(listaUtentes.generateDataset()) "
   ]
  },
  {
   "cell_type": "code",
   "execution_count": 3,
   "metadata": {},
   "outputs": [],
   "source": [
    "# Opcional: Reload módulo utente\n",
    "imp.reload(sys.modules['utente']);"
   ]
  },
  {
   "cell_type": "code",
   "execution_count": 4,
   "metadata": {
    "collapsed": true
   },
   "outputs": [
    {
     "name": "stdout",
     "output_type": "stream",
     "text": [
      "Criar ligação MySQL\n",
      "Parsing da tabela pedidos_inscritos_longos... (1/7)\n",
      "Parsing das Anulacoes... (2/7)\n",
      "Total de 4109 (3%) utentes existentes em sie_31 mas sem equivalencia na pedidos_inscritos_longos:\n",
      "Parse das Intervenções... (3/7)\n",
      "Total de 20285 (4%) utentes existentes em sie_35 mas sem equivalencia na pedidos_inscritos_longos:\n",
      "Parse dos Encaminhamentos... (4/7)\n",
      "Total de 9761 (7%) utentes existentes em sie_36 mas sem equivalencia na pedidos_inscritos_longos:\n",
      "Parse dos Apresentações... (5/7)\n",
      "Total de 4217 (2%) utentes existentes em pd_sie_37 mas sem equivalencia na pedidos_inscritos_longos:\n",
      "Parse das Convocatórias... (6/7)\n",
      "Total de 11899 (4%) utentes existentes em pd_sie_38 mas sem equivalencia na pedidos_inscritos_longos:\n",
      "Parse das Mudanças de Categoria... (7/7)\n",
      "Total de 7052 (5%) utentes existentes em pd_sie_43 mas sem equivalencia na pedidos_inscritos_longos:\n",
      "Finalizado com Sucesso!\n"
     ]
    }
   ],
   "source": [
    "# Carregamento estrutura dados (passar parâmetro forceFetch = True para forçar leitura BD >> Demorado!)\n",
    "listaUtentes = utente.ListaUtentes(forceFetch = False, sqlLimit = 99999999999) # Carrega dados locais a partir de PICKLE"
   ]
  },
  {
   "cell_type": "code",
   "execution_count": 5,
   "metadata": {},
   "outputs": [
    {
     "name": "stdout",
     "output_type": "stream",
     "text": [
      "Saving to ./temp/ListaUtentes.pickle\n"
     ]
    }
   ],
   "source": [
    "# Guarda o Pickel localmente\n",
    "listaUtentes.save()"
   ]
  },
  {
   "cell_type": "code",
   "execution_count": 6,
   "metadata": {},
   "outputs": [],
   "source": [
    "# Opcional: Output do Histórico de todos Utentes para txt >> Demorado!\n",
    "listaUtentes.output2FileHistoricosTodosUtentes()"
   ]
  },
  {
   "cell_type": "code",
   "execution_count": 7,
   "metadata": {},
   "outputs": [],
   "source": [
    "# Criação do dataframe pandas\n",
    "df = pd.DataFrame(listaUtentes.generateDataset())\n",
    "listaUtentes = None # Limpa listaUtentes depois de gerar Dataset"
   ]
  },
  {
   "cell_type": "code",
   "execution_count": 44,
   "metadata": {},
   "outputs": [],
   "source": [
    "# Truncar column names a 64 caracteres e substituir caracteres acentuados\n",
    "import re\n",
    "import unidecode\n",
    "oldColNames = [col for col in df]\n",
    "newColNames = [ re.sub('[^A-Za-z0-9]+', '',unidecode.unidecode((col)))[:64] for col in df ]\n",
    "\n",
    "df.rename(columns=dict(zip(oldColNames, newColNames)), inplace=True)"
   ]
  },
  {
   "cell_type": "code",
   "execution_count": 45,
   "metadata": {},
   "outputs": [],
   "source": [
    "# Guarda Dataframe em tabela MySQL\n",
    "from sqlalchemy import create_engine\n",
    "PASSWORD_FILENAME = './password.txt'\n",
    "with open(PASSWORD_FILENAME) as f: mysqlpass = f.read()\n",
    "engine = create_engine('mysql+pymysql://helio.b.teixeira:{}@vsrv01.inesctec.pt:3306/datasets'.format(mysqlpass.strip()))\n",
    "df.to_sql('DatasetModelo', engine, if_exists='replace')"
   ]
  },
  {
   "cell_type": "code",
   "execution_count": 47,
   "metadata": {
    "collapsed": true
   },
   "outputs": [
    {
     "name": "stdout",
     "output_type": "stream",
     "text": [
      "AreaCurso\n",
      "AreaFormacao\n",
      "CategoriaAtrib\n",
      "CnpAnterior\n",
      "ConjugeMotivoIndisponibilidade\n",
      "CursoAnoConclusao\n",
      "CursoEstabelecimentoEnsinoSup\n",
      "Data\n",
      "DataNascimento\n",
      "DiasDesemprego\n",
      "Empregado\n",
      "EstadoCivil\n",
      "FormacaoProf\n",
      "HabilitacaoEscolar\n",
      "Idade\n",
      "LTU\n",
      "Nacionalidade\n",
      "NivelDeficiencia\n",
      "NrAnulacoes\n",
      "NrAnulacoesPorMotivoCADUCIDADEDODOCUMENTODEIDENTIFICACAO\n",
      "NrAnulacoesPorMotivoCOLOCACAOCANDIDATURAEXTERNA\n",
      "NrAnulacoesPorMotivoCOLOCACAOPORMEIOSPROPRIOSPORCONTADE\n",
      "NrAnulacoesPorMotivoCOLOCACAOPORMEIOSPROPRIOSPORCONTAPRO\n",
      "NrAnulacoesPorMotivoCORRECCAOCOLOCACAOFME\n",
      "NrAnulacoesPorMotivoCORRECCAOREINSCRICAOFME\n",
      "NrAnulacoesPorMotivoCRIACAODOPROPRIOEMPREGO\n",
      "NrAnulacoesPorMotivoCUMPRIMENTOSERVICOMILITAR\n",
      "NrAnulacoesPorMotivoDESISTIU\n",
      "NrAnulacoesPorMotivoDESISTENCIAOUEXCLUSAODEFORMACAO\n",
      "NrAnulacoesPorMotivoDESISTENCIAOUEXCLUSAODEMEDIDASDEEMPRE\n",
      "NrAnulacoesPorMotivoDESISTENCIAOUEXCLUSAODETRABALHOSOCIALM\n",
      "NrAnulacoesPorMotivoDETENCAOEMESTABELECIMENTOPRISIONAL\n",
      "NrAnulacoesPorMotivoEMIGRACAOAUSENCIADOPAIS\n",
      "NrAnulacoesPorMotivoFALECIMENTO\n",
      "NrAnulacoesPorMotivoFALTAACONVOCATORIA\n",
      "NrAnulacoesPorMotivoFALTAAOCONTROLO\n",
      "NrAnulacoesPorMotivoFALTAAAPRESENTACAO\n",
      "NrAnulacoesPorMotivoFREQUENCIADECURSODEFORMACAOPROFISSIONA\n",
      "NrAnulacoesPorMotivoFREQUENCIADEESTAGIOPROFISSIONALPEPAC\n",
      "NrAnulacoesPorMotivoFREQUENCIADEESTAGIOPROFISSIONALPEPAL\n",
      "NrAnulacoesPorMotivoFREQUENCIADEESTAGIOPROFISSIONALPEPAP\n",
      "NrAnulacoesPorMotivoFREQUENCIADEFORMACAODOIEFPENTRADASGF\n",
      "NrAnulacoesPorMotivoFREQUENCIADEFORMACAOEMENTIDADEEXTERNA\n",
      "NrAnulacoesPorMotivoINCAPACIDADEPROLONGADAPERMANENTEPARAO\n",
      "NrAnulacoesPorMotivoINCUMPRIMENTODAAPRESENTACAOQUINZENAL\n",
      "NrAnulacoesPorMotivoINSCRICAOCANDIDATURAEXTERNA\n",
      "NrAnulacoesPorMotivoINSERCAONOUTROSPROGRAMASMEDIDASEMPREGO\n",
      "NrAnulacoesPorMotivoINSERCAOPORCONTAOUTREMNASEQUENCIADE\n",
      "NrAnulacoesPorMotivoINICIODELICENCADEMATERNIDADEPATERNIDA\n",
      "NrAnulacoesPorMotivoOUTROSMOTIVOS\n",
      "NrAnulacoesPorMotivoRECUSADEEMPREGOCONVENIENTE\n",
      "NrAnulacoesPorMotivoRECUSADEFORMALIZACAODEPPE\n",
      "NrAnulacoesPorMotivoRECUSADEFORMACAOPROFISSIONAL\n",
      "NrAnulacoesPorMotivoRECUSADEINTERVENCAO\n",
      "NrAnulacoesPorMotivoRECUSADETRABALHOSOCIALMENTENECESSARIO\n",
      "NrAnulacoesPorMotivoREFORMOUSE\n",
      "NrAnulacoesPorMotivoREINICIODEESTUDOS\n",
      "NrAnulacoesPorMotivoTRANSFERENCIADECENTRODEEMPREGO\n",
      "NrAnulacoesPorMotivoTRANSFERENCIAREGIOESAUTONOMAS\n",
      "NrApresentacoes\n",
      "NrApresentacoesComResultadoCADUCIDADEDODOCUMENTODEIDENTIFIC\n",
      "NrApresentacoesComResultadoCOLOCACAOCANDIDATURAEXTERNA\n",
      "NrApresentacoesComResultadoCOLOCACAOPORMEIOSPROPRIOSPORCO\n",
      "NrApresentacoesComResultadoCOLOCACAOPORMEIOSPROPRIOSPORCO\n",
      "NrApresentacoesComResultadoCORRECCAOCOLOCACAOFME\n",
      "NrApresentacoesComResultadoCORRECCAOREINSCRICAOFME\n",
      "NrApresentacoesComResultadoCRIACAODOPROPRIOEMPREGO\n",
      "NrApresentacoesComResultadoCUMPRIMENTOSERVICOMILITAR\n",
      "NrApresentacoesComResultadoDESISTIU\n",
      "NrApresentacoesComResultadoDESISTENCIAOUEXCLUSAODEFORMACAO\n",
      "NrApresentacoesComResultadoDESISTENCIAOUEXCLUSAODEMEDIDASD\n",
      "NrApresentacoesComResultadoDESISTENCIAOUEXCLUSAODETRABALHO\n",
      "NrApresentacoesComResultadoDETENCAOEMESTABELECIMENTOPRISIONA\n",
      "NrApresentacoesComResultadoEMIGRACAOAUSENCIADOPAIS\n",
      "NrApresentacoesComResultadoFALECIMENTO\n",
      "NrApresentacoesComResultadoFALTAACONVOCATORIA\n",
      "NrApresentacoesComResultadoFALTAAOCONTROLO\n",
      "NrApresentacoesComResultadoFALTAAAPRESENTACAO\n",
      "NrApresentacoesComResultadoFREQUENCIADECURSODEFORMACAOPROF\n",
      "NrApresentacoesComResultadoFREQUENCIADEESTAGIOPROFISSIONALP\n",
      "NrApresentacoesComResultadoFREQUENCIADEESTAGIOPROFISSIONALP\n",
      "NrApresentacoesComResultadoFREQUENCIADEESTAGIOPROFISSIONALP\n",
      "NrApresentacoesComResultadoFREQUENCIADEFORMACAODOIEFPENTR\n",
      "NrApresentacoesComResultadoFREQUENCIADEFORMACAOEMENTIDADEE\n",
      "NrApresentacoesComResultadoINCAPACIDADEPROLONGADAPERMANENTE\n",
      "NrApresentacoesComResultadoINCUMPRIMENTODAAPRESENTACAOQUINZE\n",
      "NrApresentacoesComResultadoINSCRICAOCANDIDATURAEXTERNA\n",
      "NrApresentacoesComResultadoINSERCAONOUTROSPROGRAMASMEDIDASE\n",
      "NrApresentacoesComResultadoINSERCAOPORCONTAOUTREMNASEQUEN\n",
      "NrApresentacoesComResultadoINICIODELICENCADEMATERNIDADEPA\n",
      "NrApresentacoesComResultadoOUTROSMOTIVOS\n",
      "NrApresentacoesComResultadoRECUSADEEMPREGOCONVENIENTE\n",
      "NrApresentacoesComResultadoRECUSADEFORMALIZACAODEPPE\n",
      "NrApresentacoesComResultadoRECUSADEFORMACAOPROFISSIONAL\n",
      "NrApresentacoesComResultadoRECUSADEINTERVENCAO\n",
      "NrApresentacoesComResultadoRECUSADETRABALHOSOCIALMENTENECES\n",
      "NrApresentacoesComResultadoREFORMOUSE\n",
      "NrApresentacoesComResultadoREINICIODEESTUDOS\n",
      "NrApresentacoesComResultadoTRANSFERENCIADECENTRODEEMPREGO\n",
      "NrApresentacoesComResultadoTRANSFERENCIAREGIOESAUTONOMAS\n",
      "NrConvocatorias\n",
      "NrDescendentesCargo\n",
      "NrEncaminhamentos\n",
      "NrInscricoes\n",
      "NrIntervencoes\n",
      "NrMudancasCategoria\n",
      "NrPessoasCargo\n",
      "Qualificacao\n",
      "RSI\n",
      "Sexo\n",
      "Utente\n",
      "IdadeCalculada\n"
     ]
    }
   ],
   "source": [
    "# Colunas do dataframe\n",
    "[print(col) for col in df];"
   ]
  },
  {
   "cell_type": "markdown",
   "metadata": {},
   "source": [
    "## Limpeza das variáveis"
   ]
  },
  {
   "cell_type": "markdown",
   "metadata": {},
   "source": [
    "Substituição de `None` por 0's e correcção do Types"
   ]
  },
  {
   "cell_type": "code",
   "execution_count": 12,
   "metadata": {},
   "outputs": [],
   "source": [
    "# DataNascimento\n",
    "df['DataNascimento'].fillna(value=np.nan, inplace = True)\n",
    "df['DataNascimento'] = pd.to_datetime(df['DataNascimento'])"
   ]
  },
  {
   "cell_type": "code",
   "execution_count": 7,
   "metadata": {},
   "outputs": [],
   "source": [
    "# Substitui por 0 todos Nones nas colunas que \n",
    "# começam por NrAnulacoesPorMotivo ou NrApresentacoesComResultado\n",
    "filter_col = [col for col in df if col.startswith('NrAnulacoesPorMotivo') \n",
    "                                   or col.startswith('NrApresentacoesComResultado')]\n",
    "\n",
    "for col in filter_col:\n",
    "    df[col].fillna(value=0, inplace = True);\n",
    "    df[col]=df[col].astype('int');"
   ]
  },
  {
   "cell_type": "code",
   "execution_count": 8,
   "metadata": {},
   "outputs": [],
   "source": [
    "# Empregado?\n",
    "df['Empregado'] = df['Empregado'].astype('category')"
   ]
  },
  {
   "cell_type": "markdown",
   "metadata": {},
   "source": [
    "## Novas Features"
   ]
  },
  {
   "cell_type": "markdown",
   "metadata": {},
   "source": [
    "### Idade"
   ]
  },
  {
   "cell_type": "code",
   "execution_count": 15,
   "metadata": {},
   "outputs": [],
   "source": [
    "df['IdadeCalculada'] = (df['Data']-df['DataNascimento']).astype('timedelta64[Y]')\n",
    "# Não tem grande utilidade...Apagar"
   ]
  },
  {
   "cell_type": "markdown",
   "metadata": {},
   "source": [
    "***"
   ]
  },
  {
   "cell_type": "markdown",
   "metadata": {},
   "source": [
    "## Análise Exploratória Univariada"
   ]
  },
  {
   "cell_type": "markdown",
   "metadata": {},
   "source": [
    "### LTU"
   ]
  },
  {
   "cell_type": "code",
   "execution_count": 10,
   "metadata": {
    "scrolled": true
   },
   "outputs": [
    {
     "data": {
      "text/plain": [
       "count     123701\n",
       "unique         3\n",
       "top            ?\n",
       "freq       75608\n",
       "Name: LTU, dtype: object"
      ]
     },
     "execution_count": 10,
     "metadata": {},
     "output_type": "execute_result"
    }
   ],
   "source": [
    "df['LTU'] = df['LTU'].astype('category');\n",
    "df['LTU'].describe()"
   ]
  },
  {
   "cell_type": "code",
   "execution_count": 11,
   "metadata": {},
   "outputs": [
    {
     "data": {
      "image/png": "[encoded data removed]",
      "text/plain": [
       "<matplotlib.figure.Figure at 0x50764f0>"
      ]
     },
     "metadata": {},
     "output_type": "display_data"
    }
   ],
   "source": [
    "sns.countplot(x='LTU', data=df);"
   ]
  },
  {
   "cell_type": "markdown",
   "metadata": {},
   "source": [
    "### DiasDesemprego"
   ]
  },
  {
   "cell_type": "code",
   "execution_count": 13,
   "metadata": {
    "scrolled": false
   },
   "outputs": [
    {
     "data": {
      "image/png": "[encoded data removed]",
      "text/plain": [
       "<matplotlib.figure.Figure at 0xe700c70>"
      ]
     },
     "metadata": {},
     "output_type": "display_data"
    }
   ],
   "source": [
    "df_empregados = df[(df['Empregado']=='S')] \n",
    "# Só faz sentido mostrar aqueles que acabaram por ficar empregados\n",
    "sns.distplot(df_empregados['DiasDesemprego'])\n",
    "plt.xlim(-100, 2000);"
   ]
  },
  {
   "cell_type": "code",
   "execution_count": 14,
   "metadata": {},
   "outputs": [
    {
     "name": "stdout",
     "output_type": "stream",
     "text": [
      "Skewness: 34.710146\n",
      "Kurtosis: 5270.179240\n"
     ]
    }
   ],
   "source": [
    "#skewness e kurtosis\n",
    "print(\"Skewness: %f\" % df['DiasDesemprego'].skew())\n",
    "print(\"Kurtosis: %f\" % df['DiasDesemprego'].kurt())"
   ]
  },
  {
   "cell_type": "markdown",
   "metadata": {},
   "source": [
    "### Idade"
   ]
  },
  {
   "cell_type": "code",
   "execution_count": 53,
   "metadata": {},
   "outputs": [
    {
     "data": {
      "text/plain": [
       "<matplotlib.axes._subplots.AxesSubplot at 0x11b455b00>"
      ]
     },
     "execution_count": 53,
     "metadata": {},
     "output_type": "execute_result"
    },
    {
     "data": {
      "image/png": "[encoded data removed]",
      "text/plain": [
       "<matplotlib.figure.Figure at 0x11aff6940>"
      ]
     },
     "metadata": {},
     "output_type": "display_data"
    }
   ],
   "source": [
    "sns.distplot(df['Idade'].dropna())"
   ]
  },
  {
   "cell_type": "markdown",
   "metadata": {},
   "source": [
    "***"
   ]
  },
  {
   "cell_type": "markdown",
   "metadata": {},
   "source": [
    "## Análise Exploratória Multivariada"
   ]
  },
  {
   "cell_type": "markdown",
   "metadata": {},
   "source": [
    "### DiasDesemprego-Sexo"
   ]
  },
  {
   "cell_type": "markdown",
   "metadata": {},
   "source": [
    "Comparação das populações do sexo Masculino e Feminino em relação dos dias de desemprego.<br>\n",
    "**Nota:** Deve-se filtar apenas as observações que resultaram em emprego pois só nesses casos sabemos ao certo quantos foram os dias que estiveram desempegados"
   ]
  },
  {
   "cell_type": "code",
   "execution_count": 17,
   "metadata": {
    "scrolled": true
   },
   "outputs": [
    {
     "data": {
      "image/png": "[encoded data removed]",
      "text/plain": [
       "<matplotlib.figure.Figure at 0xe9f40d0>"
      ]
     },
     "metadata": {},
     "output_type": "display_data"
    }
   ],
   "source": [
    "sns.boxplot(x='Sexo', y='DiasDesemprego', data=df_empregados)\n",
    "plt.ylim(0, 700);"
   ]
  },
  {
   "cell_type": "markdown",
   "metadata": {},
   "source": [
    "Olhando para a Mediana, aparentemente os utentes do sexo masculino ficam mais tempo desempregados..."
   ]
  },
  {
   "cell_type": "code",
   "execution_count": 18,
   "metadata": {
    "scrolled": false
   },
   "outputs": [
    {
     "name": "stdout",
     "output_type": "stream",
     "text": [
      "Mediana 'DiasDesemprego' (Sexo M): 125 dias\n",
      "Mediana 'DiasDesemprego' (Sexo F): 106 dias\n"
     ]
    }
   ],
   "source": [
    "print(\"Mediana 'DiasDesemprego' (Sexo M): {:.0f} dias\".format(df_empregados[df.Sexo == 'M']['DiasDesemprego'].median()))\n",
    "print(\"Mediana 'DiasDesemprego' (Sexo F): {:.0f} dias\".format(df_empregados[df.Sexo == 'F']['DiasDesemprego'].median()))"
   ]
  },
  {
   "cell_type": "markdown",
   "metadata": {},
   "source": [
    "<div class=\"alert alert-block alert-info\"> \n",
    "- __[Shortcuts](https://www.cheatography.com/weidadeyue/cheat-sheets/jupyter-notebook/)__\n",
    "- __[Markdown](http://datascience.ibm.com/blog/markdown-for-jupyter-notebooks-cheatsheet/)__"
   ]
  }
 ],
 "metadata": {
  "kernelspec": {
   "display_name": "Python 3",
   "language": "python",
   "name": "python3"
  },
  "language_info": {
   "codemirror_mode": {
    "name": "ipython",
    "version": 3
   },
   "file_extension": ".py",
   "mimetype": "text/x-python",
   "name": "python",
   "nbconvert_exporter": "python",
   "pygments_lexer": "ipython3",
   "version": "3.6.3"
  }
 },
 "nbformat": 4,
 "nbformat_minor": 2
}
