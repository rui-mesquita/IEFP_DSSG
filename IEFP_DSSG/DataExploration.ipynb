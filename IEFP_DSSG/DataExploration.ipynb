{
 "cells": [
  {
   "cell_type": "markdown",
   "metadata": {},
   "source": [
    "<div class=\"alert alert-block alert-info\"> \n",
    "- __[Shortcuts](https://www.cheatography.com/weidadeyue/cheat-sheets/jupyter-notebook/)__\n",
    "- __[Markdown](http://datascience.ibm.com/blog/markdown-for-jupyter-notebooks-cheatsheet/)__"
   ]
  },
  {
   "cell_type": "markdown",
   "metadata": {},
   "source": [
    "# Recolha dados BD"
   ]
  },
  {
   "cell_type": "code",
   "execution_count": 6,
   "metadata": {},
   "outputs": [],
   "source": [
    "from sqlalchemy import create_engine\n",
    "import pandas as pd\n",
    "import matplotlib.pyplot as plt\n",
    "import seaborn as sns\n",
    "import numpy as np\n",
    "from scipy.stats import norm\n",
    "from sklearn.preprocessing import StandardScaler\n",
    "from scipy import stats\n",
    "import warnings\n",
    "warnings.filterwarnings('ignore')\n",
    "%matplotlib inline"
   ]
  },
  {
   "cell_type": "markdown",
   "metadata": {},
   "source": [
    "### Setup"
   ]
  },
  {
   "cell_type": "code",
   "execution_count": 7,
   "metadata": {},
   "outputs": [],
   "source": [
    "pd.set_option('display.max_columns', 500)"
   ]
  },
  {
   "cell_type": "markdown",
   "metadata": {},
   "source": [
    "### Criação do objecto de ligação à MySQL DB utilizando o módulo PyMySQL"
   ]
  },
  {
   "cell_type": "code",
   "execution_count": 75,
   "metadata": {
    "scrolled": true
   },
   "outputs": [],
   "source": [
    "%%capture \n",
    "with open('password.txt') as f: mysqlpass = f.read()"
   ]
  },
  {
   "cell_type": "code",
   "execution_count": 76,
   "metadata": {
    "scrolled": true
   },
   "outputs": [],
   "source": [
    "engine = create_engine('mysql+pymysql://grupo_1:{}@151.236.42.86:3306/iefp'.format(mysqlpass))\n",
    "connection = engine.raw_connection()"
   ]
  },
  {
   "cell_type": "markdown",
   "metadata": {},
   "source": [
    "### Carregamento das tabelas em variáveis (carregar apenas as linhas necessárias) "
   ]
  },
  {
   "cell_type": "code",
   "execution_count": 36,
   "metadata": {},
   "outputs": [],
   "source": [
    "pedido_fim_2016 = pd.read_sql('SELECT * FROM pedido_fim_2016', connection)"
   ]
  },
  {
   "cell_type": "code",
   "execution_count": 51,
   "metadata": {},
   "outputs": [],
   "source": [
    "pedidos_inscritos_longos = pd.read_sql('SELECT * FROM pedidos_inscritos_longos', connection)"
   ]
  },
  {
   "cell_type": "code",
   "execution_count": 30,
   "metadata": {},
   "outputs": [],
   "source": [
    "sie_31 = pd.read_sql('SELECT * FROM sie_31', connection)"
   ]
  },
  {
   "cell_type": "code",
   "execution_count": 31,
   "metadata": {},
   "outputs": [],
   "source": [
    "sie_35 = pd.read_sql('SELECT * FROM sie_35', connection)"
   ]
  },
  {
   "cell_type": "code",
   "execution_count": 32,
   "metadata": {},
   "outputs": [],
   "source": [
    "sie_36 = pd.read_sql('SELECT * FROM sie_36', connection)"
   ]
  },
  {
   "cell_type": "code",
   "execution_count": 33,
   "metadata": {},
   "outputs": [],
   "source": [
    "sie_37 = pd.read_sql('SELECT * FROM sie_37', connection)"
   ]
  },
  {
   "cell_type": "code",
   "execution_count": 34,
   "metadata": {},
   "outputs": [],
   "source": [
    "sie_38 = pd.read_sql('SELECT * FROM sie_38', connection)"
   ]
  },
  {
   "cell_type": "code",
   "execution_count": 35,
   "metadata": {},
   "outputs": [],
   "source": [
    "sie_43 = pd.read_sql('SELECT * FROM sie_43', connection)"
   ]
  },
  {
   "cell_type": "markdown",
   "metadata": {},
   "source": [
    "### **Observações:**"
   ]
  },
  {
   "cell_type": "code",
   "execution_count": 69,
   "metadata": {},
   "outputs": [
    {
     "name": "stdout",
     "output_type": "stream",
     "text": [
      "Número de registos das tabelas:\n",
      "         pedido_fim_2016:    7995\n",
      "pedidos_inscritos_longos:  125029\n",
      "                  sie_31:  114261\n",
      "                  sie_35:  458216\n",
      "                  sie_36:  133309\n",
      "                  sie_37:  155644\n",
      "                  sie_38:  265994\n",
      "                  sie_43:  125554\n"
     ]
    }
   ],
   "source": [
    "print(\"Número de registos das tabelas:\")\n",
    "print('{:>25}  {:>6}'.format(\"pedido_fim_2016:\", len(pedido_fim_2016)))\n",
    "print('{:>25}  {:>6}'.format(\"pedidos_inscritos_longos:\", len(pedidos_inscritos_longos)))\n",
    "print('{:>25}  {:>6}'.format(\"sie_31:\", len(sie_31)))\n",
    "print('{:>25}  {:>6}'.format(\"sie_35:\", len(sie_35)))\n",
    "print('{:>25}  {:>6}'.format(\"sie_36:\", len(sie_36)))\n",
    "print('{:>25}  {:>6}'.format(\"sie_37:\", len(sie_37)))\n",
    "print('{:>25}  {:>6}'.format(\"sie_38:\", len(sie_38)))\n",
    "print('{:>25}  {:>6}'.format(\"sie_43:\", len(sie_43)))"
   ]
  },
  {
   "cell_type": "markdown",
   "metadata": {},
   "source": [
    "**pedido_fim_2016:**<br>\n",
    "Não tem UteId's Repetidos (ao contrário de pedidos_inscritos_longos)<br>\n",
    "5974 registos UteId unicos <br>\n",
    "'SELECT COUNT(DISTINCT(b.UteId)) FROM pedido_fim_2016 a RIGHT JOIN pedidos_inscritos_longos b ON a.UteId=b.UteId WHERE a.UteId IS NULL'<br>\n",
    "<br>\n",
    "**pedidos_inscritos_longos:**<br> \n",
    "63502 registos UteId unicos em pedidos_inscritos_longos: <br>\n",
    "'SELECT COUNT(DISTINCT(b.UteId)) FROM pedido_fim_2016 a RIGHT JOIN pedidos_inscritos_longos b ON a.UteId=b.UteId WHERE a.UteId IS NULL'          "
   ]
  },
  {
   "cell_type": "markdown",
   "metadata": {},
   "source": [
    "<img src=\".\\images\\UteId_Intersections_2016_longos.jpg\" title=\"UteId intersections between pedidos_inscritos_longos e pedido_fim_2016\" />"
   ]
  },
  {
   "cell_type": "markdown",
   "metadata": {},
   "source": [
    "### Fechar a ligação"
   ]
  },
  {
   "cell_type": "code",
   "execution_count": 82,
   "metadata": {},
   "outputs": [],
   "source": [
    "connection.close()"
   ]
  }
 ],
 "metadata": {
  "kernelspec": {
   "display_name": "Python 3",
   "language": "python",
   "name": "python3"
  },
  "language_info": {
   "codemirror_mode": {
    "name": "ipython",
    "version": 3
   },
   "file_extension": ".py",
   "mimetype": "text/x-python",
   "name": "python",
   "nbconvert_exporter": "python",
   "pygments_lexer": "ipython3",
   "version": "3.6.3"
  }
 },
 "nbformat": 4,
 "nbformat_minor": 2
}
