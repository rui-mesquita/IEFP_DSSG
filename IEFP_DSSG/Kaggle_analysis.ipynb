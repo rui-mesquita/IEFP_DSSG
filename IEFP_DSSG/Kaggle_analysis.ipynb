{
 "cells": [
  {
   "cell_type": "code",
   "execution_count": 3,
   "metadata": {},
   "outputs": [],
   "source": [
    "#invite people for the Kaggle party\n",
    "import pandas as pd\n",
    "import matplotlib.pyplot as plt\n",
    "import seaborn as sns\n",
    "import numpy as np\n",
    "from scipy.stats import norm\n",
    "from sklearn.preprocessing import StandardScaler\n",
    "from scipy import stats\n",
    "import warnings\n",
    "warnings.filterwarnings('ignore')\n",
    "%matplotlib inline"
   ]
  },
  {
   "cell_type": "code",
   "execution_count": 4,
   "metadata": {},
   "outputs": [],
   "source": [
    "#import class utente\n",
    "import utente\n",
    "\n",
    "import importlib as imp\n",
    "import sys"
   ]
  },
  {
   "cell_type": "markdown",
   "metadata": {},
   "source": [
    "## Carregamento dos dados"
   ]
  },
  {
   "cell_type": "markdown",
   "metadata": {},
   "source": [
    "Em máquina Windows ocorre regularmente \"Memory Error\", provavelmente devido a algumas variáveis que não são limpas ou à cache do servidor do Jupyter. <br>\n",
    "Um **fix** temporário (se não tivermos o ficheiro local PICKLE) pode ser:\n",
    "1. Carregar utente.ListaUtentes com forceFetch = True <br>\n",
    "2. Guardar localmente estrutura objectos em ficheiro PICKLE com output2FileHistoricosTodosUtentes() <br>\n",
    "3. Fechar e voltar a abrir o Notebook <br>\n",
    "4. Carregar utente.ListaUtentes com forceFetch = False <br> \n",
    "5. Carregar o Pandas Dataframe com pd.DataFrame(listaUtentes.generateDataset()) "
   ]
  },
  {
   "cell_type": "code",
   "execution_count": 5,
   "metadata": {},
   "outputs": [],
   "source": [
    "# Opcional: Reload módulo utente\n",
    "imp.reload(sys.modules['utente']);"
   ]
  },
  {
   "cell_type": "code",
   "execution_count": 6,
   "metadata": {},
   "outputs": [
    {
     "name": "stdout",
     "output_type": "stream",
     "text": [
      "Loading from ./temp/ListaUtentes.pickle\n",
      "Finished\n"
     ]
    }
   ],
   "source": [
    "# Carregamento estrutura dados (passar parâmetro forceFetch = True para forçar leitura BD >> Demorado!)\n",
    "listaUtentes = utente.ListaUtentes(forceFetch = False, sqlLimit = 99999999999) # Carrega dados locais a partir de PICKLE"
   ]
  },
  {
   "cell_type": "code",
   "execution_count": 7,
   "metadata": {},
   "outputs": [
    {
     "name": "stdout",
     "output_type": "stream",
     "text": [
      "Saving to ./temp/ListaUtentes.pickle\n"
     ]
    }
   ],
   "source": [
    "# Guarda o Pickel localmente\n",
    "listaUtentes.save()"
   ]
  },
  {
   "cell_type": "code",
   "execution_count": 8,
   "metadata": {},
   "outputs": [],
   "source": [
    "# Criação do dataframe pandas\n",
    "df = pd.DataFrame(listaUtentes.generateDataset())\n",
    "listaUtentes = None # Limpa listaUtentes depois de gerar Dataset"
   ]
  },
  {
   "cell_type": "code",
   "execution_count": 9,
   "metadata": {},
   "outputs": [
    {
     "name": "stdout",
     "output_type": "stream",
     "text": [
      "AreaCurso\n",
      "AreaFormacao\n",
      "CategoriaAtrib\n",
      "CnpAnterior\n",
      "ConjugeMotivoIndisponibilidade\n",
      "CursoAnoConclusao\n",
      "CursoEstabelecimentoEnsinoSup\n",
      "Data\n",
      "DataNascimento\n",
      "DiasDesemprego\n",
      "Empregado\n",
      "EstadoCivil\n",
      "FormacaoProf\n",
      "HabilitacaoEscolar\n",
      "Idade\n",
      "LTU\n",
      "Nacionalidade\n",
      "NivelDeficiencia\n",
      "NrAnulacoes\n",
      "NrAnulacoesPorMotivo_CADUCIDADE DO DOCUMENTO DE IDENTIFICAÇÃO\n",
      "NrAnulacoesPorMotivo_COLOCAÇÃO - CANDIDATURA EXTERNA\n",
      "NrAnulacoesPorMotivo_COLOCAÇÃO POR MEIOS PRÓPRIOS, POR CONTA DE OUTREM\n",
      "NrAnulacoesPorMotivo_COLOCAÇÃO POR MEIOS PRÓPRIOS, POR CONTA PRÓPRIA\n",
      "NrAnulacoesPorMotivo_CORRECÇÃO COLOCAÇÃO FME\n",
      "NrAnulacoesPorMotivo_CORRECÇÃO REINSCRIÇÃO FME\n",
      "NrAnulacoesPorMotivo_CRIAÇÃO DO PRÓPRIO EMPREGO\n",
      "NrAnulacoesPorMotivo_CUMPRIMENTO SERVIÇO MILITAR\n",
      "NrAnulacoesPorMotivo_DESISTIU\n",
      "NrAnulacoesPorMotivo_DESISTÊNCIA OU EXCLUSÃO DE FORMAÇÃO\n",
      "NrAnulacoesPorMotivo_DESISTÊNCIA OU EXCLUSÃO DE MEDIDAS DE EMPREGO (EXCLUI TRABALHO SOCIALMENTE NECESSÁRIO)\n",
      "NrAnulacoesPorMotivo_DESISTÊNCIA OU EXCLUSÃO DE TRABALHO SOCIALMENTE NECESSÁRIO\n",
      "NrAnulacoesPorMotivo_DETENÇÃO EM ESTABELECIMENTO PRISIONAL\n",
      "NrAnulacoesPorMotivo_EMIGRAÇÃO, AUSÊNCIA DO PAÍS\n",
      "NrAnulacoesPorMotivo_FALECIMENTO\n",
      "NrAnulacoesPorMotivo_FALTA A CONVOCATÓRIA\n",
      "NrAnulacoesPorMotivo_FALTA AO CONTROLO\n",
      "NrAnulacoesPorMotivo_FALTA À APRESENTAÇÃO\n",
      "NrAnulacoesPorMotivo_FREQUÊNCIA DE CURSO DE FORMAÇÃO PROFISSIONAL DO IEFP\n",
      "NrAnulacoesPorMotivo_FREQUÊNCIA DE ESTÁGIO PROFISSIONAL PEPAC\n",
      "NrAnulacoesPorMotivo_FREQUÊNCIA DE ESTÁGIO PROFISSIONAL PEPAL\n",
      "NrAnulacoesPorMotivo_FREQUÊNCIA DE ESTÁGIO PROFISSIONAL PEPAP\n",
      "NrAnulacoesPorMotivo_FREQUÊNCIA DE FORMAÇÃO DO IEFP (ENTRADA SGFOR)\n",
      "NrAnulacoesPorMotivo_FREQUÊNCIA DE FORMAÇÃO EM ENTIDADE EXTERNA AO IEFP\n",
      "NrAnulacoesPorMotivo_INCAPACIDADE PROLONGADA / PERMANENTE PARA O TRABALHO\n",
      "NrAnulacoesPorMotivo_INCUMPRIMENTO DA APRESENTAÇÃO QUINZENAL\n",
      "NrAnulacoesPorMotivo_INSCRIÇÃO CANDIDATURA EXTERNA\n",
      "NrAnulacoesPorMotivo_INSERÇÃO NOUTROS PROGRAMAS/MEDIDAS EMPREGO (SIEF)\n",
      "NrAnulacoesPorMotivo_INSERÇÃO POR CONTA OUTRÉM, NA SEQUÊNCIA DE PROGRAMA\n",
      "NrAnulacoesPorMotivo_INÍCIO DE LICENÇA DE MATERNIDADE, PATERNIDADE OU ADOPÇÃO\n",
      "NrAnulacoesPorMotivo_OUTROS MOTIVOS\n",
      "NrAnulacoesPorMotivo_RECUSA DE EMPREGO CONVENIENTE\n",
      "NrAnulacoesPorMotivo_RECUSA DE FORMALIZAÇÃO DE PPE\n",
      "NrAnulacoesPorMotivo_RECUSA DE FORMAÇÃO PROFISSIONAL\n",
      "NrAnulacoesPorMotivo_RECUSA DE INTERVENÇÃO\n",
      "NrAnulacoesPorMotivo_RECUSA DE TRABALHO SOCIALMENTE NECESSÁRIO\n",
      "NrAnulacoesPorMotivo_REFORMOU-SE\n",
      "NrAnulacoesPorMotivo_REINÍCIO DE ESTUDOS\n",
      "NrAnulacoesPorMotivo_TRANSFERÊNCIA DE CENTRO DE EMPREGO\n",
      "NrAnulacoesPorMotivo_TRANSFERÊNCIA REGIÕES AUTÓNOMAS\n",
      "NrApresentacoes\n",
      "NrApresentacoesComResultado_CADUCIDADE DO DOCUMENTO DE IDENTIFICAÇÃO\n",
      "NrApresentacoesComResultado_COLOCAÇÃO - CANDIDATURA EXTERNA\n",
      "NrApresentacoesComResultado_COLOCAÇÃO POR MEIOS PRÓPRIOS, POR CONTA DE OUTREM\n",
      "NrApresentacoesComResultado_COLOCAÇÃO POR MEIOS PRÓPRIOS, POR CONTA PRÓPRIA\n",
      "NrApresentacoesComResultado_CORRECÇÃO COLOCAÇÃO FME\n",
      "NrApresentacoesComResultado_CORRECÇÃO REINSCRIÇÃO FME\n",
      "NrApresentacoesComResultado_CRIAÇÃO DO PRÓPRIO EMPREGO\n",
      "NrApresentacoesComResultado_CUMPRIMENTO SERVIÇO MILITAR\n",
      "NrApresentacoesComResultado_DESISTIU\n",
      "NrApresentacoesComResultado_DESISTÊNCIA OU EXCLUSÃO DE FORMAÇÃO\n",
      "NrApresentacoesComResultado_DESISTÊNCIA OU EXCLUSÃO DE MEDIDAS DE EMPREGO (EXCLUI TRABALHO SOCIALMENTE NECESSÁRIO)\n",
      "NrApresentacoesComResultado_DESISTÊNCIA OU EXCLUSÃO DE TRABALHO SOCIALMENTE NECESSÁRIO\n",
      "NrApresentacoesComResultado_DETENÇÃO EM ESTABELECIMENTO PRISIONAL\n",
      "NrApresentacoesComResultado_EMIGRAÇÃO, AUSÊNCIA DO PAÍS\n",
      "NrApresentacoesComResultado_FALECIMENTO\n",
      "NrApresentacoesComResultado_FALTA A CONVOCATÓRIA\n",
      "NrApresentacoesComResultado_FALTA AO CONTROLO\n",
      "NrApresentacoesComResultado_FALTA À APRESENTAÇÃO\n",
      "NrApresentacoesComResultado_FREQUÊNCIA DE CURSO DE FORMAÇÃO PROFISSIONAL DO IEFP\n",
      "NrApresentacoesComResultado_FREQUÊNCIA DE ESTÁGIO PROFISSIONAL PEPAC\n",
      "NrApresentacoesComResultado_FREQUÊNCIA DE ESTÁGIO PROFISSIONAL PEPAL\n",
      "NrApresentacoesComResultado_FREQUÊNCIA DE ESTÁGIO PROFISSIONAL PEPAP\n",
      "NrApresentacoesComResultado_FREQUÊNCIA DE FORMAÇÃO DO IEFP (ENTRADA SGFOR)\n",
      "NrApresentacoesComResultado_FREQUÊNCIA DE FORMAÇÃO EM ENTIDADE EXTERNA AO IEFP\n",
      "NrApresentacoesComResultado_INCAPACIDADE PROLONGADA / PERMANENTE PARA O TRABALHO\n",
      "NrApresentacoesComResultado_INCUMPRIMENTO DA APRESENTAÇÃO QUINZENAL\n",
      "NrApresentacoesComResultado_INSCRIÇÃO CANDIDATURA EXTERNA\n",
      "NrApresentacoesComResultado_INSERÇÃO NOUTROS PROGRAMAS/MEDIDAS EMPREGO (SIEF)\n",
      "NrApresentacoesComResultado_INSERÇÃO POR CONTA OUTRÉM, NA SEQUÊNCIA DE PROGRAMA\n",
      "NrApresentacoesComResultado_INÍCIO DE LICENÇA DE MATERNIDADE, PATERNIDADE OU ADOPÇÃO\n",
      "NrApresentacoesComResultado_OUTROS MOTIVOS\n",
      "NrApresentacoesComResultado_RECUSA DE EMPREGO CONVENIENTE\n",
      "NrApresentacoesComResultado_RECUSA DE FORMALIZAÇÃO DE PPE\n",
      "NrApresentacoesComResultado_RECUSA DE FORMAÇÃO PROFISSIONAL\n",
      "NrApresentacoesComResultado_RECUSA DE INTERVENÇÃO\n",
      "NrApresentacoesComResultado_RECUSA DE TRABALHO SOCIALMENTE NECESSÁRIO\n",
      "NrApresentacoesComResultado_REFORMOU-SE\n",
      "NrApresentacoesComResultado_REINÍCIO DE ESTUDOS\n",
      "NrApresentacoesComResultado_TRANSFERÊNCIA DE CENTRO DE EMPREGO\n",
      "NrApresentacoesComResultado_TRANSFERÊNCIA REGIÕES AUTÓNOMAS\n",
      "NrConvocatorias\n",
      "NrDescendentesCargo\n",
      "NrEncaminhamentos\n",
      "NrInscricoes\n",
      "NrIntervencoes\n",
      "NrMudancasCategoria\n",
      "NrPessoasCargo\n",
      "Qualificacao\n",
      "RSI\n",
      "Sexo\n",
      "Utente\n"
     ]
    }
   ],
   "source": [
    "# Listagem Colunas do dataframe\n",
    "[print(col) for col in df];"
   ]
  },
  {
   "cell_type": "code",
   "execution_count": 13,
   "metadata": {},
   "outputs": [
    {
     "data": {
      "text/html": [
       "<div>\n",
       "<style scoped>\n",
       "    .dataframe tbody tr th:only-of-type {\n",
       "        vertical-align: middle;\n",
       "    }\n",
       "\n",
       "    .dataframe tbody tr th {\n",
       "        vertical-align: top;\n",
       "    }\n",
       "\n",
       "    .dataframe thead th {\n",
       "        text-align: right;\n",
       "    }\n",
       "</style>\n",
       "<table border=\"1\" class=\"dataframe\">\n",
       "  <thead>\n",
       "    <tr style=\"text-align: right;\">\n",
       "      <th></th>\n",
       "      <th>count</th>\n",
       "      <th>unique</th>\n",
       "      <th>top</th>\n",
       "      <th>freq</th>\n",
       "      <th>first</th>\n",
       "      <th>last</th>\n",
       "      <th>mean</th>\n",
       "      <th>std</th>\n",
       "      <th>min</th>\n",
       "      <th>25%</th>\n",
       "      <th>50%</th>\n",
       "      <th>75%</th>\n",
       "      <th>max</th>\n",
       "    </tr>\n",
       "  </thead>\n",
       "  <tbody>\n",
       "    <tr>\n",
       "      <th>AreaCurso</th>\n",
       "      <td>22280</td>\n",
       "      <td>1528</td>\n",
       "      <td>GESTÃO</td>\n",
       "      <td>729</td>\n",
       "      <td>NaN</td>\n",
       "      <td>NaN</td>\n",
       "      <td>NaN</td>\n",
       "      <td>NaN</td>\n",
       "      <td>NaN</td>\n",
       "      <td>NaN</td>\n",
       "      <td>NaN</td>\n",
       "      <td>NaN</td>\n",
       "      <td>NaN</td>\n",
       "    </tr>\n",
       "    <tr>\n",
       "      <th>AreaFormacao</th>\n",
       "      <td>23626</td>\n",
       "      <td>100</td>\n",
       "      <td>GESTÃO E ADMINISTRAÇÃO</td>\n",
       "      <td>2691</td>\n",
       "      <td>NaN</td>\n",
       "      <td>NaN</td>\n",
       "      <td>NaN</td>\n",
       "      <td>NaN</td>\n",
       "      <td>NaN</td>\n",
       "      <td>NaN</td>\n",
       "      <td>NaN</td>\n",
       "      <td>NaN</td>\n",
       "      <td>NaN</td>\n",
       "    </tr>\n",
       "    <tr>\n",
       "      <th>CategoriaAtrib</th>\n",
       "      <td>123701</td>\n",
       "      <td>4</td>\n",
       "      <td>DESEMPREGADO-NOVO EMPREGO</td>\n",
       "      <td>105664</td>\n",
       "      <td>NaN</td>\n",
       "      <td>NaN</td>\n",
       "      <td>NaN</td>\n",
       "      <td>NaN</td>\n",
       "      <td>NaN</td>\n",
       "      <td>NaN</td>\n",
       "      <td>NaN</td>\n",
       "      <td>NaN</td>\n",
       "      <td>NaN</td>\n",
       "    </tr>\n",
       "    <tr>\n",
       "      <th>CnpAnterior</th>\n",
       "      <td>99687</td>\n",
       "      <td>1129</td>\n",
       "      <td>ESCRITURÁRIO,EM GERAL</td>\n",
       "      <td>6384</td>\n",
       "      <td>NaN</td>\n",
       "      <td>NaN</td>\n",
       "      <td>NaN</td>\n",
       "      <td>NaN</td>\n",
       "      <td>NaN</td>\n",
       "      <td>NaN</td>\n",
       "      <td>NaN</td>\n",
       "      <td>NaN</td>\n",
       "      <td>NaN</td>\n",
       "    </tr>\n",
       "    <tr>\n",
       "      <th>ConjugeMotivoIndisponibilidade</th>\n",
       "      <td>23</td>\n",
       "      <td>3</td>\n",
       "      <td>01</td>\n",
       "      <td>12</td>\n",
       "      <td>NaN</td>\n",
       "      <td>NaN</td>\n",
       "      <td>NaN</td>\n",
       "      <td>NaN</td>\n",
       "      <td>NaN</td>\n",
       "      <td>NaN</td>\n",
       "      <td>NaN</td>\n",
       "      <td>NaN</td>\n",
       "      <td>NaN</td>\n",
       "    </tr>\n",
       "  </tbody>\n",
       "</table>\n",
       "</div>"
      ],
      "text/plain": [
       "                                 count unique                        top  \\\n",
       "AreaCurso                        22280   1528                     GESTÃO   \n",
       "AreaFormacao                     23626    100     GESTÃO E ADMINISTRAÇÃO   \n",
       "CategoriaAtrib                  123701      4  DESEMPREGADO-NOVO EMPREGO   \n",
       "CnpAnterior                      99687   1129      ESCRITURÁRIO,EM GERAL   \n",
       "ConjugeMotivoIndisponibilidade      23      3                         01   \n",
       "\n",
       "                                  freq first last mean  std  min  25%  50%  \\\n",
       "AreaCurso                          729   NaN  NaN  NaN  NaN  NaN  NaN  NaN   \n",
       "AreaFormacao                      2691   NaN  NaN  NaN  NaN  NaN  NaN  NaN   \n",
       "CategoriaAtrib                  105664   NaN  NaN  NaN  NaN  NaN  NaN  NaN   \n",
       "CnpAnterior                       6384   NaN  NaN  NaN  NaN  NaN  NaN  NaN   \n",
       "ConjugeMotivoIndisponibilidade      12   NaN  NaN  NaN  NaN  NaN  NaN  NaN   \n",
       "\n",
       "                                75%  max  \n",
       "AreaCurso                       NaN  NaN  \n",
       "AreaFormacao                    NaN  NaN  \n",
       "CategoriaAtrib                  NaN  NaN  \n",
       "CnpAnterior                     NaN  NaN  \n",
       "ConjugeMotivoIndisponibilidade  NaN  NaN  "
      ]
     },
     "execution_count": 13,
     "metadata": {},
     "output_type": "execute_result"
    }
   ],
   "source": [
    "summary=df.describe(include = 'all')\n",
    "summary=summary.transpose()\n",
    "summary.head()"
   ]
  },
  {
   "cell_type": "code",
   "execution_count": 35,
   "metadata": {},
   "outputs": [
    {
     "data": {
      "text/plain": [
       "AreaCurso                                                                                                              object\n",
       "AreaFormacao                                                                                                           object\n",
       "CategoriaAtrib                                                                                                         object\n",
       "CnpAnterior                                                                                                            object\n",
       "ConjugeMotivoIndisponibilidade                                                                                         object\n",
       "CursoAnoConclusao                                                                                                      object\n",
       "CursoEstabelecimentoEnsinoSup                                                                                          object\n",
       "Data                                                                                                           datetime64[ns]\n",
       "DataNascimento                                                                                                         object\n",
       "DiasDesemprego                                                                                                          int64\n",
       "Empregado                                                                                                              object\n",
       "EstadoCivil                                                                                                            object\n",
       "FormacaoProf                                                                                                           object\n",
       "HabilitacaoEscolar                                                                                                     object\n",
       "Idade                                                                                                                 float64\n",
       "LTU                                                                                                                    object\n",
       "Nacionalidade                                                                                                          object\n",
       "NivelDeficiencia                                                                                                        int64\n",
       "NrAnulacoes                                                                                                             int64\n",
       "NrAnulacoesPorMotivo_CADUCIDADE DO DOCUMENTO DE IDENTIFICAÇÃO                                                         float64\n",
       "NrAnulacoesPorMotivo_COLOCAÇÃO - CANDIDATURA EXTERNA                                                                  float64\n",
       "NrAnulacoesPorMotivo_COLOCAÇÃO POR MEIOS PRÓPRIOS, POR CONTA DE OUTREM                                                float64\n",
       "NrAnulacoesPorMotivo_COLOCAÇÃO POR MEIOS PRÓPRIOS, POR CONTA PRÓPRIA                                                  float64\n",
       "NrAnulacoesPorMotivo_CORRECÇÃO COLOCAÇÃO FME                                                                          float64\n",
       "NrAnulacoesPorMotivo_CORRECÇÃO REINSCRIÇÃO FME                                                                        float64\n",
       "NrAnulacoesPorMotivo_CRIAÇÃO DO PRÓPRIO EMPREGO                                                                       float64\n",
       "NrAnulacoesPorMotivo_CUMPRIMENTO SERVIÇO MILITAR                                                                      float64\n",
       "NrAnulacoesPorMotivo_DESISTIU                                                                                         float64\n",
       "NrAnulacoesPorMotivo_DESISTÊNCIA OU EXCLUSÃO DE FORMAÇÃO                                                              float64\n",
       "NrAnulacoesPorMotivo_DESISTÊNCIA OU EXCLUSÃO DE MEDIDAS DE EMPREGO (EXCLUI TRABALHO SOCIALMENTE NECESSÁRIO)           float64\n",
       "                                                                                                                    ...      \n",
       "NrApresentacoesComResultado_FREQUÊNCIA DE ESTÁGIO PROFISSIONAL PEPAP                                                  float64\n",
       "NrApresentacoesComResultado_FREQUÊNCIA DE FORMAÇÃO DO IEFP (ENTRADA SGFOR)                                            float64\n",
       "NrApresentacoesComResultado_FREQUÊNCIA DE FORMAÇÃO EM ENTIDADE EXTERNA AO IEFP                                        float64\n",
       "NrApresentacoesComResultado_INCAPACIDADE PROLONGADA / PERMANENTE PARA O TRABALHO                                      float64\n",
       "NrApresentacoesComResultado_INCUMPRIMENTO DA APRESENTAÇÃO QUINZENAL                                                   float64\n",
       "NrApresentacoesComResultado_INSCRIÇÃO CANDIDATURA EXTERNA                                                             float64\n",
       "NrApresentacoesComResultado_INSERÇÃO NOUTROS PROGRAMAS/MEDIDAS EMPREGO (SIEF)                                         float64\n",
       "NrApresentacoesComResultado_INSERÇÃO POR CONTA OUTRÉM, NA SEQUÊNCIA DE PROGRAMA                                       float64\n",
       "NrApresentacoesComResultado_INÍCIO DE LICENÇA DE MATERNIDADE, PATERNIDADE OU ADOPÇÃO                                  float64\n",
       "NrApresentacoesComResultado_OUTROS MOTIVOS                                                                            float64\n",
       "NrApresentacoesComResultado_RECUSA DE EMPREGO CONVENIENTE                                                             float64\n",
       "NrApresentacoesComResultado_RECUSA DE FORMALIZAÇÃO DE PPE                                                             float64\n",
       "NrApresentacoesComResultado_RECUSA DE FORMAÇÃO PROFISSIONAL                                                           float64\n",
       "NrApresentacoesComResultado_RECUSA DE INTERVENÇÃO                                                                     float64\n",
       "NrApresentacoesComResultado_RECUSA DE TRABALHO SOCIALMENTE NECESSÁRIO                                                 float64\n",
       "NrApresentacoesComResultado_REFORMOU-SE                                                                               float64\n",
       "NrApresentacoesComResultado_REINÍCIO DE ESTUDOS                                                                       float64\n",
       "NrApresentacoesComResultado_TRANSFERÊNCIA DE CENTRO DE EMPREGO                                                        float64\n",
       "NrApresentacoesComResultado_TRANSFERÊNCIA REGIÕES AUTÓNOMAS                                                           float64\n",
       "NrConvocatorias                                                                                                         int64\n",
       "NrDescendentesCargo                                                                                                    object\n",
       "NrEncaminhamentos                                                                                                       int64\n",
       "NrInscricoes                                                                                                            int64\n",
       "NrIntervencoes                                                                                                          int64\n",
       "NrMudancasCategoria                                                                                                     int64\n",
       "NrPessoasCargo                                                                                                        float64\n",
       "Qualificacao                                                                                                           object\n",
       "RSI                                                                                                                    object\n",
       "Sexo                                                                                                                   object\n",
       "Utente                                                                                                                  int64\n",
       "Length: 111, dtype: object"
      ]
     },
     "execution_count": 35,
     "metadata": {},
     "output_type": "execute_result"
    }
   ],
   "source": [
    "# Type of each variable in the pandas data frame\n",
    "type(df)\n",
    "df.dtypes"
   ]
  },
  {
   "cell_type": "code",
   "execution_count": 48,
   "metadata": {},
   "outputs": [
    {
     "data": {
      "text/plain": [
       "array([[<matplotlib.axes._subplots.AxesSubplot object at 0x000001E14F15DB38>]], dtype=object)"
      ]
     },
     "execution_count": 48,
     "metadata": {},
     "output_type": "execute_result"
    },
    {
     "data": {
      "image/png": "[encoded data removed]",
      "text/plain": [
       "<matplotlib.figure.Figure at 0x1e16783b9b0>"
      ]
     },
     "metadata": {},
     "output_type": "display_data"
    }
   ],
   "source": [
    "#df histograms\n",
    "pd.DataFrame.hist(df, column='NrConvocatorias')"
   ]
  },
  {
   "cell_type": "code",
   "execution_count": 49,
   "metadata": {},
   "outputs": [
    {
     "ename": "AttributeError",
     "evalue": "'AxesSubplot' object has no attribute 'pd'",
     "output_type": "error",
     "traceback": [
      "\u001b[1;31m---------------------------------------------------------------------------\u001b[0m",
      "\u001b[1;31mAttributeError\u001b[0m                            Traceback (most recent call last)",
      "\u001b[1;32m<ipython-input-49-ce8e02e1c9ec>\u001b[0m in \u001b[0;36m<module>\u001b[1;34m()\u001b[0m\n\u001b[0;32m      1\u001b[0m \u001b[1;31m# Two subplots, unpack the axes array immediately\u001b[0m\u001b[1;33m\u001b[0m\u001b[1;33m\u001b[0m\u001b[0m\n\u001b[0;32m      2\u001b[0m \u001b[0mf\u001b[0m\u001b[1;33m,\u001b[0m \u001b[1;33m(\u001b[0m\u001b[0max1\u001b[0m\u001b[1;33m,\u001b[0m \u001b[0max2\u001b[0m\u001b[1;33m)\u001b[0m \u001b[1;33m=\u001b[0m \u001b[0mplt\u001b[0m\u001b[1;33m.\u001b[0m\u001b[0msubplots\u001b[0m\u001b[1;33m(\u001b[0m\u001b[1;36m1\u001b[0m\u001b[1;33m,\u001b[0m \u001b[1;36m2\u001b[0m\u001b[1;33m,\u001b[0m \u001b[0msharey\u001b[0m\u001b[1;33m=\u001b[0m\u001b[1;32mTrue\u001b[0m\u001b[1;33m)\u001b[0m\u001b[1;33m\u001b[0m\u001b[0m\n\u001b[1;32m----> 3\u001b[1;33m \u001b[0max1\u001b[0m\u001b[1;33m.\u001b[0m\u001b[0mpd\u001b[0m\u001b[1;33m.\u001b[0m\u001b[0mDataFrame\u001b[0m\u001b[1;33m.\u001b[0m\u001b[0mhist\u001b[0m\u001b[1;33m(\u001b[0m\u001b[0mdf\u001b[0m\u001b[1;33m,\u001b[0m\u001b[0mcolumn\u001b[0m\u001b[1;33m=\u001b[0m\u001b[1;34m'Idade'\u001b[0m\u001b[1;33m)\u001b[0m\u001b[1;33m\u001b[0m\u001b[0m\n\u001b[0m\u001b[0;32m      4\u001b[0m \u001b[0max1\u001b[0m\u001b[1;33m.\u001b[0m\u001b[0mset_title\u001b[0m\u001b[1;33m(\u001b[0m\u001b[1;34m'Sharing Y axis'\u001b[0m\u001b[1;33m)\u001b[0m\u001b[1;33m\u001b[0m\u001b[0m\n\u001b[0;32m      5\u001b[0m \u001b[0max2\u001b[0m\u001b[1;33m.\u001b[0m\u001b[0mpd\u001b[0m\u001b[1;33m.\u001b[0m\u001b[0mDataFrame\u001b[0m\u001b[1;33m.\u001b[0m\u001b[0mhist\u001b[0m\u001b[1;33m(\u001b[0m\u001b[0mdf\u001b[0m\u001b[1;33m,\u001b[0m\u001b[0mcolumn\u001b[0m\u001b[1;33m=\u001b[0m\u001b[1;34m'NrConvocatorias'\u001b[0m\u001b[1;33m)\u001b[0m\u001b[1;33m\u001b[0m\u001b[0m\n",
      "\u001b[1;31mAttributeError\u001b[0m: 'AxesSubplot' object has no attribute 'pd'"
     ]
    },
    {
     "data": {
      "image/png": "[encoded data removed]",
      "text/plain": [
       "<matplotlib.figure.Figure at 0x1e152918898>"
      ]
     },
     "metadata": {},
     "output_type": "display_data"
    }
   ],
   "source": [
    "# Two subplots, unpack the axes array immediately\n",
    "f, (ax1, ax2) = plt.subplots(1, 2, sharey=True)\n",
    "ax1.pd.DataFrame.hist(df,column='Idade')\n",
    "ax1.set_title('Sharing Y axis')\n",
    "ax2.pd.DataFrame.hist(df,column='NrConvocatorias')"
   ]
  },
  {
   "cell_type": "code",
   "execution_count": null,
   "metadata": {},
   "outputs": [],
   "source": []
  }
 ],
 "metadata": {
  "kernelspec": {
   "display_name": "Python 3",
   "language": "python",
   "name": "python3"
  },
  "language_info": {
   "codemirror_mode": {
    "name": "ipython",
    "version": 3
   },
   "file_extension": ".py",
   "mimetype": "text/x-python",
   "name": "python",
   "nbconvert_exporter": "python",
   "pygments_lexer": "ipython3",
   "version": "3.6.3"
  }
 },
 "nbformat": 4,
 "nbformat_minor": 2
}
